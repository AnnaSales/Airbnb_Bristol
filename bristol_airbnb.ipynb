{
 "cells": [
  {
   "cell_type": "code",
   "execution_count": 97,
   "id": "1457dc8b",
   "metadata": {},
   "outputs": [],
   "source": [
    "# import necessary libraries\n",
    "import numpy as np\n",
    "import pandas as pd\n",
    "import matplotlib.pyplot as plt\n",
    "from scipy.stats import f_oneway, normaltest\n",
    "from statsmodels.stats.multicomp import pairwise_tukeyhsd\n",
    "# set up matplotlib\n",
    "%matplotlib inline"
   ]
  },
  {
   "cell_type": "markdown",
   "id": "77d3d66b",
   "metadata": {},
   "source": [
    "The standard data science steps are: gather, assess, clean, analyze, model, visualize"
   ]
  },
  {
   "cell_type": "code",
   "execution_count": 2,
   "id": "e1307ac2",
   "metadata": {},
   "outputs": [],
   "source": [
    "# Gather the data. Here we are using airbnb data for the city of Bristol, UK.\n",
    "listings_df=pd.read_csv('./listings.csv') \n",
    "cal_df=pd.read_csv('./calendar.csv')\n",
    "rev_df=pd.read_csv('./reviews.csv')\n",
    "neigh_df=pd.read_csv('./neighbourhoods.csv')"
   ]
  },
  {
   "cell_type": "markdown",
   "id": "5b6584ec",
   "metadata": {},
   "source": [
    "We will start by looking at the 'listings' dataset, to get an idea of where the rentals are located."
   ]
  },
  {
   "cell_type": "code",
   "execution_count": 279,
   "id": "c9620c7b",
   "metadata": {},
   "outputs": [
    {
     "name": "stdout",
     "output_type": "stream",
     "text": [
      "The size of the listings dataframe is: (2260, 75)\n"
     ]
    },
    {
     "data": {
      "text/html": [
       "<div>\n",
       "<style scoped>\n",
       "    .dataframe tbody tr th:only-of-type {\n",
       "        vertical-align: middle;\n",
       "    }\n",
       "\n",
       "    .dataframe tbody tr th {\n",
       "        vertical-align: top;\n",
       "    }\n",
       "\n",
       "    .dataframe thead th {\n",
       "        text-align: right;\n",
       "    }\n",
       "</style>\n",
       "<table border=\"1\" class=\"dataframe\">\n",
       "  <thead>\n",
       "    <tr style=\"text-align: right;\">\n",
       "      <th></th>\n",
       "      <th>id</th>\n",
       "      <th>listing_url</th>\n",
       "      <th>scrape_id</th>\n",
       "      <th>last_scraped</th>\n",
       "      <th>source</th>\n",
       "      <th>name</th>\n",
       "      <th>description</th>\n",
       "      <th>neighborhood_overview</th>\n",
       "      <th>picture_url</th>\n",
       "      <th>host_id</th>\n",
       "      <th>...</th>\n",
       "      <th>review_scores_communication</th>\n",
       "      <th>review_scores_location</th>\n",
       "      <th>review_scores_value</th>\n",
       "      <th>license</th>\n",
       "      <th>instant_bookable</th>\n",
       "      <th>calculated_host_listings_count</th>\n",
       "      <th>calculated_host_listings_count_entire_homes</th>\n",
       "      <th>calculated_host_listings_count_private_rooms</th>\n",
       "      <th>calculated_host_listings_count_shared_rooms</th>\n",
       "      <th>reviews_per_month</th>\n",
       "    </tr>\n",
       "  </thead>\n",
       "  <tbody>\n",
       "    <tr>\n",
       "      <th>0</th>\n",
       "      <td>70820</td>\n",
       "      <td>https://www.airbnb.com/rooms/70820</td>\n",
       "      <td>20221228025809</td>\n",
       "      <td>2022-12-28</td>\n",
       "      <td>previous scrape</td>\n",
       "      <td>City View - Sarah's double room.</td>\n",
       "      <td>A good sized room with a comfy double bed and ...</td>\n",
       "      <td>The neighbourhood is friendly and welcoming; m...</td>\n",
       "      <td>https://a0.muscache.com/pictures/b33c30be-56a0...</td>\n",
       "      <td>360195</td>\n",
       "      <td>...</td>\n",
       "      <td>4.94</td>\n",
       "      <td>4.75</td>\n",
       "      <td>4.77</td>\n",
       "      <td>NaN</td>\n",
       "      <td>f</td>\n",
       "      <td>5</td>\n",
       "      <td>0</td>\n",
       "      <td>5</td>\n",
       "      <td>0</td>\n",
       "      <td>1.60</td>\n",
       "    </tr>\n",
       "    <tr>\n",
       "      <th>1</th>\n",
       "      <td>117122</td>\n",
       "      <td>https://www.airbnb.com/rooms/117122</td>\n",
       "      <td>20221228025809</td>\n",
       "      <td>2022-12-28</td>\n",
       "      <td>city scrape</td>\n",
       "      <td>City Centre-Waterside Retreat</td>\n",
       "      <td>My Harbourside apartment centrally located min...</td>\n",
       "      <td>This area is on the water and has splendid vie...</td>\n",
       "      <td>https://a0.muscache.com/pictures/f6d39021-af07...</td>\n",
       "      <td>591555</td>\n",
       "      <td>...</td>\n",
       "      <td>4.99</td>\n",
       "      <td>4.97</td>\n",
       "      <td>4.88</td>\n",
       "      <td>NaN</td>\n",
       "      <td>f</td>\n",
       "      <td>1</td>\n",
       "      <td>0</td>\n",
       "      <td>1</td>\n",
       "      <td>0</td>\n",
       "      <td>1.23</td>\n",
       "    </tr>\n",
       "    <tr>\n",
       "      <th>2</th>\n",
       "      <td>176306</td>\n",
       "      <td>https://www.airbnb.com/rooms/176306</td>\n",
       "      <td>20221228025809</td>\n",
       "      <td>2022-12-28</td>\n",
       "      <td>city scrape</td>\n",
       "      <td>The White Room -  Central Bristol Art House Ga...</td>\n",
       "      <td>A small double room in an artist's house, with...</td>\n",
       "      <td>Southville is pretty darn hip, frankly. North ...</td>\n",
       "      <td>https://a0.muscache.com/pictures/e1e7fdfc-9db5...</td>\n",
       "      <td>708175</td>\n",
       "      <td>...</td>\n",
       "      <td>4.92</td>\n",
       "      <td>4.72</td>\n",
       "      <td>4.67</td>\n",
       "      <td>NaN</td>\n",
       "      <td>f</td>\n",
       "      <td>1</td>\n",
       "      <td>0</td>\n",
       "      <td>1</td>\n",
       "      <td>0</td>\n",
       "      <td>0.35</td>\n",
       "    </tr>\n",
       "    <tr>\n",
       "      <th>3</th>\n",
       "      <td>307634</td>\n",
       "      <td>https://www.airbnb.com/rooms/307634</td>\n",
       "      <td>20221228025809</td>\n",
       "      <td>2022-12-28</td>\n",
       "      <td>city scrape</td>\n",
       "      <td>'The Sunset Room' Peaceful, Clear Home</td>\n",
       "      <td>Close to Bristol and Bath Railway Path, leadin...</td>\n",
       "      <td>Located in the cosmopolitan and bohemian commu...</td>\n",
       "      <td>https://a0.muscache.com/pictures/e9a6cc15-b2ea...</td>\n",
       "      <td>1582810</td>\n",
       "      <td>...</td>\n",
       "      <td>4.75</td>\n",
       "      <td>4.79</td>\n",
       "      <td>4.61</td>\n",
       "      <td>NaN</td>\n",
       "      <td>f</td>\n",
       "      <td>3</td>\n",
       "      <td>1</td>\n",
       "      <td>2</td>\n",
       "      <td>0</td>\n",
       "      <td>0.46</td>\n",
       "    </tr>\n",
       "    <tr>\n",
       "      <th>4</th>\n",
       "      <td>341227</td>\n",
       "      <td>https://www.airbnb.com/rooms/341227</td>\n",
       "      <td>20221228025809</td>\n",
       "      <td>2022-12-28</td>\n",
       "      <td>city scrape</td>\n",
       "      <td>Listed Georgian house in the heart of Bristol.</td>\n",
       "      <td>This is a unique home in the heart of Montpeli...</td>\n",
       "      <td>Shabby and authentic and still not gentrified,...</td>\n",
       "      <td>https://a0.muscache.com/pictures/43731fbe-289d...</td>\n",
       "      <td>237360</td>\n",
       "      <td>...</td>\n",
       "      <td>4.96</td>\n",
       "      <td>4.83</td>\n",
       "      <td>4.73</td>\n",
       "      <td>NaN</td>\n",
       "      <td>f</td>\n",
       "      <td>1</td>\n",
       "      <td>1</td>\n",
       "      <td>0</td>\n",
       "      <td>0</td>\n",
       "      <td>0.84</td>\n",
       "    </tr>\n",
       "  </tbody>\n",
       "</table>\n",
       "<p>5 rows × 75 columns</p>\n",
       "</div>"
      ],
      "text/plain": [
       "       id                          listing_url       scrape_id last_scraped  \\\n",
       "0   70820   https://www.airbnb.com/rooms/70820  20221228025809   2022-12-28   \n",
       "1  117122  https://www.airbnb.com/rooms/117122  20221228025809   2022-12-28   \n",
       "2  176306  https://www.airbnb.com/rooms/176306  20221228025809   2022-12-28   \n",
       "3  307634  https://www.airbnb.com/rooms/307634  20221228025809   2022-12-28   \n",
       "4  341227  https://www.airbnb.com/rooms/341227  20221228025809   2022-12-28   \n",
       "\n",
       "            source                                               name  \\\n",
       "0  previous scrape                   City View - Sarah's double room.   \n",
       "1      city scrape                      City Centre-Waterside Retreat   \n",
       "2      city scrape  The White Room -  Central Bristol Art House Ga...   \n",
       "3      city scrape             'The Sunset Room' Peaceful, Clear Home   \n",
       "4      city scrape     Listed Georgian house in the heart of Bristol.   \n",
       "\n",
       "                                         description  \\\n",
       "0  A good sized room with a comfy double bed and ...   \n",
       "1  My Harbourside apartment centrally located min...   \n",
       "2  A small double room in an artist's house, with...   \n",
       "3  Close to Bristol and Bath Railway Path, leadin...   \n",
       "4  This is a unique home in the heart of Montpeli...   \n",
       "\n",
       "                               neighborhood_overview  \\\n",
       "0  The neighbourhood is friendly and welcoming; m...   \n",
       "1  This area is on the water and has splendid vie...   \n",
       "2  Southville is pretty darn hip, frankly. North ...   \n",
       "3  Located in the cosmopolitan and bohemian commu...   \n",
       "4  Shabby and authentic and still not gentrified,...   \n",
       "\n",
       "                                         picture_url  host_id  ...  \\\n",
       "0  https://a0.muscache.com/pictures/b33c30be-56a0...   360195  ...   \n",
       "1  https://a0.muscache.com/pictures/f6d39021-af07...   591555  ...   \n",
       "2  https://a0.muscache.com/pictures/e1e7fdfc-9db5...   708175  ...   \n",
       "3  https://a0.muscache.com/pictures/e9a6cc15-b2ea...  1582810  ...   \n",
       "4  https://a0.muscache.com/pictures/43731fbe-289d...   237360  ...   \n",
       "\n",
       "  review_scores_communication review_scores_location review_scores_value  \\\n",
       "0                        4.94                   4.75                4.77   \n",
       "1                        4.99                   4.97                4.88   \n",
       "2                        4.92                   4.72                4.67   \n",
       "3                        4.75                   4.79                4.61   \n",
       "4                        4.96                   4.83                4.73   \n",
       "\n",
       "  license instant_bookable calculated_host_listings_count  \\\n",
       "0     NaN                f                              5   \n",
       "1     NaN                f                              1   \n",
       "2     NaN                f                              1   \n",
       "3     NaN                f                              3   \n",
       "4     NaN                f                              1   \n",
       "\n",
       "  calculated_host_listings_count_entire_homes  \\\n",
       "0                                           0   \n",
       "1                                           0   \n",
       "2                                           0   \n",
       "3                                           1   \n",
       "4                                           1   \n",
       "\n",
       "  calculated_host_listings_count_private_rooms  \\\n",
       "0                                            5   \n",
       "1                                            1   \n",
       "2                                            1   \n",
       "3                                            2   \n",
       "4                                            0   \n",
       "\n",
       "  calculated_host_listings_count_shared_rooms reviews_per_month  \n",
       "0                                           0              1.60  \n",
       "1                                           0              1.23  \n",
       "2                                           0              0.35  \n",
       "3                                           0              0.46  \n",
       "4                                           0              0.84  \n",
       "\n",
       "[5 rows x 75 columns]"
      ]
     },
     "execution_count": 279,
     "metadata": {},
     "output_type": "execute_result"
    }
   ],
   "source": [
    "#Assess the dataset: look at shape, column headings and missing values\n",
    "\n",
    "print(f\"The size of the listings dataframe is: {listings_df.shape}\")\n",
    "listings_df.head(5)"
   ]
  },
  {
   "cell_type": "code",
   "execution_count": 319,
   "id": "5d324951",
   "metadata": {},
   "outputs": [
    {
     "name": "stdout",
     "output_type": "stream",
     "text": [
      "These columns have at least one missing value: \n",
      " ['description', 'neighborhood_overview', 'host_location', 'host_about', 'host_response_time', 'host_response_rate', 'host_acceptance_rate', 'host_neighbourhood', 'neighbourhood', 'neighbourhood_group_cleansed', 'bathrooms', 'bathrooms_text', 'bedrooms', 'beds', 'calendar_updated', 'first_review', 'last_review', 'review_scores_rating', 'review_scores_accuracy', 'review_scores_cleanliness', 'review_scores_checkin', 'review_scores_communication', 'review_scores_location', 'review_scores_value', 'license', 'reviews_per_month'] \n",
      "\n",
      "These columns have more than 25% of values missing: \n",
      " ['neighborhood_overview', 'host_about', 'host_neighbourhood', 'neighbourhood', 'neighbourhood_group_cleansed', 'bathrooms', 'calendar_updated', 'license']\n"
     ]
    }
   ],
   "source": [
    "#which columns have missing values\n",
    "print(f\"These columns have at least one missing value: \\n {listings_df.columns[listings_df.isna().any()].tolist()} \\n\")\n",
    "\n",
    "#which columns have more than 25% missing\n",
    "print(f\"These columns have more than 25% of values missing: \\n {listings_df.columns[listings_df.isna().mean()> 0.25].tolist()}\")"
   ]
  },
  {
   "cell_type": "code",
   "execution_count": 3,
   "id": "a9fa08bd",
   "metadata": {},
   "outputs": [],
   "source": [
    "#The field 'neighbourhood cleansed' has no missing values. Let's use it to look at where the\n",
    "#majority of the rentals are\n",
    "neighs=listings_df['neighbourhood_cleansed'].value_counts().index[0:15]\n",
    "totals=listings_df['neighbourhood_cleansed'].value_counts().values[0:15]\n"
   ]
  },
  {
   "cell_type": "code",
   "execution_count": 53,
   "id": "b29ed688",
   "metadata": {},
   "outputs": [
    {
     "data": {
      "text/plain": [
       "<BarContainer object of 15 artists>"
      ]
     },
     "execution_count": 53,
     "metadata": {},
     "output_type": "execute_result"
    },
    {
     "data": {
      "image/png": "[encoded data removed]",
      "text/plain": [
       "<Figure size 640x480 with 1 Axes>"
      ]
     },
     "metadata": {},
     "output_type": "display_data"
    }
   ],
   "source": [
    "plt.barh(np.flipud(neighs), np.flipud(totals))"
   ]
  },
  {
   "cell_type": "code",
   "execution_count": 5,
   "id": "4c5c03c7",
   "metadata": {},
   "outputs": [],
   "source": [
    "#This doesnt take account of the fact that some hosts have multiple listings. Let's try counting them up using \n",
    "#the 'calculated_host_listings_count' columns - which reflects the number of listings the user has. Of course, we \n",
    "#have to assume that the listings are all in the same neighbourhood reported by the 'neighbourhood' cleansed column"
   ]
  },
  {
   "cell_type": "code",
   "execution_count": 50,
   "id": "0f67e84b",
   "metadata": {},
   "outputs": [
    {
     "name": "stdout",
     "output_type": "stream",
     "text": [
      "The number of hosts with multiple listings is 1167 out of 2260\n"
     ]
    }
   ],
   "source": [
    "num_multi_listings=np.sum((listings_df.calculated_host_listings_count)>1)\n",
    "\n",
    "print(f\"The number of hosts with multiple listings is {num_multi_listings} out of {listings_df.shape[0]}\")\n",
    " #true_neighbourhood_list=count_neighbourhood_listings(listings_df['neighbourhood_cleansed'], listings_df['calculated_host_listings_count'])\n",
    "true_neighbourhood_list=np.repeat(listings_df['neighbourhood_cleansed'], listings_df['calculated_host_listings_count'])\n",
    "neighs, counts=np.unique(true_neighbourhood_list, return_counts=True)\n",
    "df=pd.DataFrame()\n",
    "df['neigh']=neighs\n",
    "df['count']=counts\n"
   ]
  },
  {
   "cell_type": "code",
   "execution_count": 51,
   "id": "277d36dc",
   "metadata": {},
   "outputs": [
    {
     "data": {
      "text/plain": [
       "<BarContainer object of 10 artists>"
      ]
     },
     "execution_count": 51,
     "metadata": {},
     "output_type": "execute_result"
    },
    {
     "data": {
      "image/png": "[encoded data removed]",
      "text/plain": [
       "<Figure size 640x480 with 1 Axes>"
      ]
     },
     "metadata": {},
     "output_type": "display_data"
    }
   ],
   "source": [
    "neighbourhood_sorted=df.sort_values(by='count', ascending=False)\n",
    "\n",
    "plt.barh(np.flipud(neighbourhood_sorted['neigh'][0:10]), np.flipud(neighbourhood_sorted['count'][0:10]))\n"
   ]
  },
  {
   "cell_type": "markdown",
   "id": "ac512fd7",
   "metadata": {},
   "source": [
    "We can see that in fact the 'Central' region has by far the most individual rentals"
   ]
  },
  {
   "cell_type": "markdown",
   "id": "32fd840c",
   "metadata": {},
   "source": [
    "Do visitors prefer staying in one region over another? Let's look to see whether there is actually any difference between the location ratings for the top 5 areas"
   ]
  },
  {
   "cell_type": "code",
   "execution_count": 317,
   "id": "5ecdf1cb",
   "metadata": {},
   "outputs": [
    {
     "data": {
      "text/plain": [
       "0       False\n",
       "1       False\n",
       "2       False\n",
       "3       False\n",
       "4       False\n",
       "        ...  \n",
       "2255    False\n",
       "2256    False\n",
       "2257    False\n",
       "2258    False\n",
       "2259    False\n",
       "Name: neighbourhood_cleansed, Length: 2260, dtype: bool"
      ]
     },
     "execution_count": 317,
     "metadata": {},
     "output_type": "execute_result"
    }
   ],
   "source": [
    "#First let's check whether there are missing values in the location ratings column \n",
    "\n",
    "listings_df['review_scores_location'].isnull().sum()/listings_df.shape[0]\n"
   ]
  },
  {
   "cell_type": "markdown",
   "id": "454775d0",
   "metadata": {},
   "source": [
    "That's not too bad, there are still around 2000 ratings to use. Let's discard the rows with a 'nan' for \n",
    "location rating, and then look at the differences between ratings in each area."
   ]
  },
  {
   "cell_type": "code",
   "execution_count": 262,
   "id": "993f576f",
   "metadata": {
    "scrolled": true
   },
   "outputs": [
    {
     "name": "stdout",
     "output_type": "stream",
     "text": [
      "Mean neighbourhood review scores: neighbourhood_cleansed\n",
      "Clifton Down              4.899191\n",
      "Clifton                   4.894789\n",
      "Cotham                    4.866800\n",
      "Redland                   4.852222\n",
      "Southville                4.845833\n",
      "Hotwells & Harbourside    4.843182\n",
      "Central                   4.834161\n",
      "Ashley                    4.760315\n",
      "Easton                    4.602614\n",
      "Lawrence Hill             4.481414\n",
      "Name: review_scores_location, dtype: float64 \n",
      " \n"
     ]
    },
    {
     "data": {
      "image/png": "[encoded data removed]",
      "text/plain": [
       "<Figure size 640x480 with 1 Axes>"
      ]
     },
     "metadata": {},
     "output_type": "display_data"
    }
   ],
   "source": [
    "#Create a new dataframe, dropping the rows with null entries for the location review, and only including\n",
    "#our top 5 neighbourhoods and the two columns of interest\n",
    "\n",
    "location_df=listings_df.dropna(subset=['review_scores_location'])\n",
    "location_df=location_df[['review_scores_location', 'neighbourhood_cleansed']]\n",
    "\n",
    "top_10_neighbourhoods=np.flipud(neighbourhood_sorted['neigh'][0:10]).tolist()\n",
    "\n",
    "location_df=location_df[location_df['neighbourhood_cleansed'].isin(top_10_neighbourhoods)]\n",
    "\n",
    "mean_scores=location_df.groupby('neighbourhood_cleansed').mean().review_scores_location.sort_values(ascending=False)\n",
    "print(f\"Mean neighbourhood review scores: {mean_scores} \\n \")    ;\n",
    "\n",
    "#Let's pull out the 5 data sets of interest and plot some statistical measures. We will test for normality\n",
    "#to see if we can use a one-way ANOVA to check for meaningful differences between the sets.\n",
    "normal_p_scores={}\n",
    "location_scores={}\n",
    "\n",
    "for location in top_10_neighbourhoods:\n",
    "    location_scores[location]=location_df['review_scores_location'][location_df['neighbourhood_cleansed']==location]\n",
    "    normal_p_scores[location]=normaltest(location_scores[location])[1]\n",
    "\n",
    "# Plot mean and inter-quartile range using a boxplot\n",
    "x=[location_scores[top_10_neighbourhoods[n]] for n in np.arange(10)]\n",
    "plt.boxplot(x)\n",
    "\n",
    "\n",
    "#we will manually change the third entry as it's too long to look nice on the plot:\n",
    "top_10=top_10_neighbourhoods\n",
    "top_10[2]='Hotwells'\n",
    "plt.xticks(list(np.arange(1,11,1)),top_10);\n",
    "plt.xticks(rotation=45)\n",
    "plt.ylabel('Location Review Scores');\n"
   ]
  },
  {
   "cell_type": "markdown",
   "id": "cb2e366c",
   "metadata": {},
   "source": [
    "These all look pretty similar - but it seems that Easton and Lawrence Hill  are lower than the rest. Is there any statistical difference between the groups?"
   ]
  },
  {
   "cell_type": "code",
   "execution_count": 273,
   "id": "050e16e7",
   "metadata": {},
   "outputs": [
    {
     "name": "stdout",
     "output_type": "stream",
     "text": [
      "Scores are all normally distributed\n",
      "                Multiple Comparison of Means - Tukey HSD, FWER=0.05                 \n",
      "====================================================================================\n",
      "        group1                 group2         meandiff p-adj   lower   upper  reject\n",
      "------------------------------------------------------------------------------------\n",
      "                Ashley                Central   0.0738 0.3263 -0.0237  0.1714  False\n",
      "                Ashley                Clifton   0.1345 0.0012  0.0331  0.2359   True\n",
      "                Ashley           Clifton Down   0.1389 0.0008   0.036  0.2417   True\n",
      "                Ashley                 Cotham   0.1065 0.0924 -0.0078  0.2208  False\n",
      "                Ashley                 Easton  -0.1577 0.0013 -0.2774  -0.038   True\n",
      "                Ashley Hotwells & Harbourside   0.0829 0.6246 -0.0509  0.2166  False\n",
      "                Ashley          Lawrence Hill  -0.2789    0.0 -0.3936 -0.1642   True\n",
      "                Ashley                Redland   0.0919 0.4201 -0.0373  0.2211  False\n",
      "                Ashley             Southville   0.0855 0.3654 -0.0304  0.2015  False\n",
      "               Central                Clifton   0.0606 0.7815 -0.0508  0.1721  False\n",
      "               Central           Clifton Down    0.065  0.717 -0.0477  0.1778  False\n",
      "               Central                 Cotham   0.0326 0.9979 -0.0906  0.1559  False\n",
      "               Central                 Easton  -0.2315    0.0 -0.3599 -0.1032   True\n",
      "               Central Hotwells & Harbourside    0.009    1.0 -0.1325  0.1505  False\n",
      "               Central          Lawrence Hill  -0.3527    0.0 -0.4764 -0.2291   True\n",
      "               Central                Redland   0.0181    1.0 -0.1192  0.1553  False\n",
      "               Central             Southville   0.0117    1.0 -0.1131  0.1365  False\n",
      "               Clifton           Clifton Down   0.0044    1.0 -0.1117  0.1205  False\n",
      "               Clifton                 Cotham   -0.028 0.9995 -0.1543  0.0984  False\n",
      "               Clifton                 Easton  -0.2922    0.0 -0.4235 -0.1609   True\n",
      "               Clifton Hotwells & Harbourside  -0.0516 0.9811 -0.1958  0.0926  False\n",
      "               Clifton          Lawrence Hill  -0.4134    0.0 -0.5401 -0.2866   True\n",
      "               Clifton                Redland  -0.0426 0.9941 -0.1826  0.0975  False\n",
      "               Clifton             Southville   -0.049 0.9703 -0.1768  0.0789  False\n",
      "          Clifton Down                 Cotham  -0.0324 0.9985 -0.1599  0.0951  False\n",
      "          Clifton Down                 Easton  -0.2966    0.0  -0.429 -0.1642   True\n",
      "          Clifton Down Hotwells & Harbourside   -0.056 0.9688 -0.2012  0.0892  False\n",
      "          Clifton Down          Lawrence Hill  -0.4178    0.0 -0.5457 -0.2899   True\n",
      "          Clifton Down                Redland   -0.047 0.9886  -0.188  0.0941  False\n",
      "          Clifton Down             Southville  -0.0534 0.9513 -0.1824  0.0757  False\n",
      "                Cotham                 Easton  -0.2642    0.0 -0.4057 -0.1227   True\n",
      "                Cotham Hotwells & Harbourside  -0.0236    1.0 -0.1771  0.1299  False\n",
      "                Cotham          Lawrence Hill  -0.3854    0.0 -0.5226 -0.2482   True\n",
      "                Cotham                Redland  -0.0146    1.0 -0.1642   0.135  False\n",
      "                Cotham             Southville   -0.021    1.0 -0.1593  0.1173  False\n",
      "                Easton Hotwells & Harbourside   0.2406 0.0001   0.083  0.3982   True\n",
      "                Easton          Lawrence Hill  -0.1212  0.171  -0.263  0.0206  False\n",
      "                Easton                Redland   0.2496    0.0  0.0958  0.4034   True\n",
      "                Easton             Southville   0.2432    0.0  0.1004  0.3861   True\n",
      "Hotwells & Harbourside          Lawrence Hill  -0.3618    0.0 -0.5156  -0.208   True\n",
      "Hotwells & Harbourside                Redland    0.009    1.0 -0.1559   0.174  False\n",
      "Hotwells & Harbourside             Southville   0.0027    1.0 -0.1521  0.1574  False\n",
      "         Lawrence Hill                Redland   0.3708    0.0  0.2209  0.5207   True\n",
      "         Lawrence Hill             Southville   0.3644    0.0  0.2258  0.5031   True\n",
      "               Redland             Southville  -0.0064    1.0 -0.1573  0.1445  False\n",
      "------------------------------------------------------------------------------------\n"
     ]
    }
   ],
   "source": [
    "if np.sum([p_vals<0.05 for p_vals in normal_p_scores.values()])==10:\n",
    "    print('Scores are all normally distributed')\n",
    "    \n",
    "f_oneway(central_scores, cd_scores, ashley_scores, clifton_scores,lhill_scores)\n",
    "\n",
    "# perform multiple pairwise comparison (Tukey HSD)\n",
    "m_comp = pairwise_tukeyhsd(endog=location_df['review_scores_location'], groups=location_df['neighbourhood_cleansed'], alpha=0.05)\n",
    "print(m_comp)"
   ]
  },
  {
   "cell_type": "markdown",
   "id": "5659716c",
   "metadata": {},
   "source": [
    "This produces a horrible table, but you can see that both Easton and Lawrence Hill have a statistically lower rating than all other neighbourhoods (except each other)\n",
    "\n",
    "You can also see that Southville, Redlands and Hotwells have high ratings, but are underrepresented in the listings - maybe there's a gap in the market here!"
   ]
  },
  {
   "cell_type": "code",
   "execution_count": 35,
   "id": "ecda2e08",
   "metadata": {
    "scrolled": true
   },
   "outputs": [
    {
     "data": {
      "text/html": [
       "<div>\n",
       "<style scoped>\n",
       "    .dataframe tbody tr th:only-of-type {\n",
       "        vertical-align: middle;\n",
       "    }\n",
       "\n",
       "    .dataframe tbody tr th {\n",
       "        vertical-align: top;\n",
       "    }\n",
       "\n",
       "    .dataframe thead th {\n",
       "        text-align: right;\n",
       "    }\n",
       "</style>\n",
       "<table border=\"1\" class=\"dataframe\">\n",
       "  <thead>\n",
       "    <tr style=\"text-align: right;\">\n",
       "      <th></th>\n",
       "      <th>listing_id</th>\n",
       "      <th>date</th>\n",
       "      <th>available</th>\n",
       "      <th>price</th>\n",
       "      <th>adjusted_price</th>\n",
       "      <th>minimum_nights</th>\n",
       "      <th>maximum_nights</th>\n",
       "    </tr>\n",
       "  </thead>\n",
       "  <tbody>\n",
       "    <tr>\n",
       "      <th>366</th>\n",
       "      <td>7746625</td>\n",
       "      <td>2022-12-29</td>\n",
       "      <td>t</td>\n",
       "      <td>$306.00</td>\n",
       "      <td>$306.00</td>\n",
       "      <td>3</td>\n",
       "      <td>10</td>\n",
       "    </tr>\n",
       "    <tr>\n",
       "      <th>367</th>\n",
       "      <td>7746625</td>\n",
       "      <td>2022-12-30</td>\n",
       "      <td>t</td>\n",
       "      <td>$306.00</td>\n",
       "      <td>$306.00</td>\n",
       "      <td>3</td>\n",
       "      <td>10</td>\n",
       "    </tr>\n",
       "    <tr>\n",
       "      <th>368</th>\n",
       "      <td>7746625</td>\n",
       "      <td>2022-12-31</td>\n",
       "      <td>t</td>\n",
       "      <td>$306.00</td>\n",
       "      <td>$306.00</td>\n",
       "      <td>3</td>\n",
       "      <td>10</td>\n",
       "    </tr>\n",
       "    <tr>\n",
       "      <th>369</th>\n",
       "      <td>7746625</td>\n",
       "      <td>2023-01-01</td>\n",
       "      <td>t</td>\n",
       "      <td>$306.00</td>\n",
       "      <td>$306.00</td>\n",
       "      <td>3</td>\n",
       "      <td>10</td>\n",
       "    </tr>\n",
       "    <tr>\n",
       "      <th>410</th>\n",
       "      <td>7746625</td>\n",
       "      <td>2023-02-11</td>\n",
       "      <td>t</td>\n",
       "      <td>$306.00</td>\n",
       "      <td>$306.00</td>\n",
       "      <td>3</td>\n",
       "      <td>10</td>\n",
       "    </tr>\n",
       "    <tr>\n",
       "      <th>...</th>\n",
       "      <td>...</td>\n",
       "      <td>...</td>\n",
       "      <td>...</td>\n",
       "      <td>...</td>\n",
       "      <td>...</td>\n",
       "      <td>...</td>\n",
       "      <td>...</td>\n",
       "    </tr>\n",
       "    <tr>\n",
       "      <th>824181</th>\n",
       "      <td>7738447</td>\n",
       "      <td>2023-02-02</td>\n",
       "      <td>t</td>\n",
       "      <td>$90.00</td>\n",
       "      <td>$90.00</td>\n",
       "      <td>25</td>\n",
       "      <td>35</td>\n",
       "    </tr>\n",
       "    <tr>\n",
       "      <th>824182</th>\n",
       "      <td>7738447</td>\n",
       "      <td>2023-02-03</td>\n",
       "      <td>t</td>\n",
       "      <td>$90.00</td>\n",
       "      <td>$90.00</td>\n",
       "      <td>25</td>\n",
       "      <td>35</td>\n",
       "    </tr>\n",
       "    <tr>\n",
       "      <th>824511</th>\n",
       "      <td>7738952</td>\n",
       "      <td>2022-12-29</td>\n",
       "      <td>t</td>\n",
       "      <td>$65.00</td>\n",
       "      <td>$65.00</td>\n",
       "      <td>2</td>\n",
       "      <td>4</td>\n",
       "    </tr>\n",
       "    <tr>\n",
       "      <th>824512</th>\n",
       "      <td>7738952</td>\n",
       "      <td>2022-12-30</td>\n",
       "      <td>t</td>\n",
       "      <td>$73.00</td>\n",
       "      <td>$73.00</td>\n",
       "      <td>2</td>\n",
       "      <td>4</td>\n",
       "    </tr>\n",
       "    <tr>\n",
       "      <th>824513</th>\n",
       "      <td>7738952</td>\n",
       "      <td>2022-12-31</td>\n",
       "      <td>t</td>\n",
       "      <td>$80.00</td>\n",
       "      <td>$80.00</td>\n",
       "      <td>2</td>\n",
       "      <td>4</td>\n",
       "    </tr>\n",
       "  </tbody>\n",
       "</table>\n",
       "<p>396281 rows × 7 columns</p>\n",
       "</div>"
      ],
      "text/plain": [
       "        listing_id        date available    price adjusted_price  \\\n",
       "366        7746625  2022-12-29         t  $306.00        $306.00   \n",
       "367        7746625  2022-12-30         t  $306.00        $306.00   \n",
       "368        7746625  2022-12-31         t  $306.00        $306.00   \n",
       "369        7746625  2023-01-01         t  $306.00        $306.00   \n",
       "410        7746625  2023-02-11         t  $306.00        $306.00   \n",
       "...            ...         ...       ...      ...            ...   \n",
       "824181     7738447  2023-02-02         t   $90.00         $90.00   \n",
       "824182     7738447  2023-02-03         t   $90.00         $90.00   \n",
       "824511     7738952  2022-12-29         t   $65.00         $65.00   \n",
       "824512     7738952  2022-12-30         t   $73.00         $73.00   \n",
       "824513     7738952  2022-12-31         t   $80.00         $80.00   \n",
       "\n",
       "        minimum_nights  maximum_nights  \n",
       "366                  3              10  \n",
       "367                  3              10  \n",
       "368                  3              10  \n",
       "369                  3              10  \n",
       "410                  3              10  \n",
       "...                ...             ...  \n",
       "824181              25              35  \n",
       "824182              25              35  \n",
       "824511               2               4  \n",
       "824512               2               4  \n",
       "824513               2               4  \n",
       "\n",
       "[396281 rows x 7 columns]"
      ]
     },
     "execution_count": 35,
     "metadata": {},
     "output_type": "execute_result"
    }
   ],
   "source": [
    "# Take an initial look at the data\n",
    "cal_df.head()\n",
    "cal_df[cal_df.available=='t']\n"
   ]
  },
  {
   "cell_type": "code",
   "execution_count": 16,
   "id": "b7b2da27",
   "metadata": {},
   "outputs": [
    {
     "data": {
      "text/plain": [
       "2260"
      ]
     },
     "execution_count": 16,
     "metadata": {},
     "output_type": "execute_result"
    }
   ],
   "source": [
    "listings_df.columns[listings_df.isnull().mean()>0]\n",
    "\n",
    "listings_df.bathrooms.isnull().sum()"
   ]
  },
  {
   "cell_type": "code",
   "execution_count": null,
   "id": "7489bd57",
   "metadata": {},
   "outputs": [],
   "source": []
  }
 ],
 "metadata": {
  "kernelspec": {
   "display_name": "Python 3 (ipykernel)",
   "language": "python",
   "name": "python3"
  },
  "language_info": {
   "codemirror_mode": {
    "name": "ipython",
    "version": 3
   },
   "file_extension": ".py",
   "mimetype": "text/x-python",
   "name": "python",
   "nbconvert_exporter": "python",
   "pygments_lexer": "ipython3",
   "version": "3.9.13"
  }
 },
 "nbformat": 4,
 "nbformat_minor": 5
}
