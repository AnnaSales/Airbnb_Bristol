{
 "cells": [
  {
   "cell_type": "code",
   "execution_count": 1,
   "id": "1457dc8b",
   "metadata": {},
   "outputs": [],
   "source": [
    "# import necessary libraries\n",
    "import numpy as np\n",
    "import pandas as pd\n",
    "import matplotlib.pyplot as plt\n",
    "import matplotlib.colors as mcolors\n",
    "from scipy.stats import f_oneway, normaltest\n",
    "from statsmodels.stats.multicomp import pairwise_tukeyhsd\n",
    "# set up matplotlib\n",
    "%matplotlib inline"
   ]
  },
  {
   "cell_type": "markdown",
   "id": "77d3d66b",
   "metadata": {},
   "source": [
    "The standard data science steps are: gather, assess, clean, analyze, model, visualize. Let's start by gathering our data and doing an initial assessment of what data we have."
   ]
  },
  {
   "cell_type": "code",
   "execution_count": 2,
   "id": "e1307ac2",
   "metadata": {},
   "outputs": [
    {
     "name": "stdout",
     "output_type": "stream",
     "text": [
      "The size of the listings dataframe is: (2260, 75)\n"
     ]
    },
    {
     "data": {
      "text/html": [
       "<div>\n",
       "<style scoped>\n",
       "    .dataframe tbody tr th:only-of-type {\n",
       "        vertical-align: middle;\n",
       "    }\n",
       "\n",
       "    .dataframe tbody tr th {\n",
       "        vertical-align: top;\n",
       "    }\n",
       "\n",
       "    .dataframe thead th {\n",
       "        text-align: right;\n",
       "    }\n",
       "</style>\n",
       "<table border=\"1\" class=\"dataframe\">\n",
       "  <thead>\n",
       "    <tr style=\"text-align: right;\">\n",
       "      <th></th>\n",
       "      <th>id</th>\n",
       "      <th>listing_url</th>\n",
       "      <th>scrape_id</th>\n",
       "      <th>last_scraped</th>\n",
       "      <th>source</th>\n",
       "      <th>name</th>\n",
       "      <th>description</th>\n",
       "      <th>neighborhood_overview</th>\n",
       "      <th>picture_url</th>\n",
       "      <th>host_id</th>\n",
       "      <th>...</th>\n",
       "      <th>review_scores_communication</th>\n",
       "      <th>review_scores_location</th>\n",
       "      <th>review_scores_value</th>\n",
       "      <th>license</th>\n",
       "      <th>instant_bookable</th>\n",
       "      <th>calculated_host_listings_count</th>\n",
       "      <th>calculated_host_listings_count_entire_homes</th>\n",
       "      <th>calculated_host_listings_count_private_rooms</th>\n",
       "      <th>calculated_host_listings_count_shared_rooms</th>\n",
       "      <th>reviews_per_month</th>\n",
       "    </tr>\n",
       "  </thead>\n",
       "  <tbody>\n",
       "    <tr>\n",
       "      <th>0</th>\n",
       "      <td>70820</td>\n",
       "      <td>https://www.airbnb.com/rooms/70820</td>\n",
       "      <td>20221228025809</td>\n",
       "      <td>2022-12-28</td>\n",
       "      <td>previous scrape</td>\n",
       "      <td>City View - Sarah's double room.</td>\n",
       "      <td>A good sized room with a comfy double bed and ...</td>\n",
       "      <td>The neighbourhood is friendly and welcoming; m...</td>\n",
       "      <td>https://a0.muscache.com/pictures/b33c30be-56a0...</td>\n",
       "      <td>360195</td>\n",
       "      <td>...</td>\n",
       "      <td>4.94</td>\n",
       "      <td>4.75</td>\n",
       "      <td>4.77</td>\n",
       "      <td>NaN</td>\n",
       "      <td>f</td>\n",
       "      <td>5</td>\n",
       "      <td>0</td>\n",
       "      <td>5</td>\n",
       "      <td>0</td>\n",
       "      <td>1.60</td>\n",
       "    </tr>\n",
       "    <tr>\n",
       "      <th>1</th>\n",
       "      <td>117122</td>\n",
       "      <td>https://www.airbnb.com/rooms/117122</td>\n",
       "      <td>20221228025809</td>\n",
       "      <td>2022-12-28</td>\n",
       "      <td>city scrape</td>\n",
       "      <td>City Centre-Waterside Retreat</td>\n",
       "      <td>My Harbourside apartment centrally located min...</td>\n",
       "      <td>This area is on the water and has splendid vie...</td>\n",
       "      <td>https://a0.muscache.com/pictures/f6d39021-af07...</td>\n",
       "      <td>591555</td>\n",
       "      <td>...</td>\n",
       "      <td>4.99</td>\n",
       "      <td>4.97</td>\n",
       "      <td>4.88</td>\n",
       "      <td>NaN</td>\n",
       "      <td>f</td>\n",
       "      <td>1</td>\n",
       "      <td>0</td>\n",
       "      <td>1</td>\n",
       "      <td>0</td>\n",
       "      <td>1.23</td>\n",
       "    </tr>\n",
       "    <tr>\n",
       "      <th>2</th>\n",
       "      <td>176306</td>\n",
       "      <td>https://www.airbnb.com/rooms/176306</td>\n",
       "      <td>20221228025809</td>\n",
       "      <td>2022-12-28</td>\n",
       "      <td>city scrape</td>\n",
       "      <td>The White Room -  Central Bristol Art House Ga...</td>\n",
       "      <td>A small double room in an artist's house, with...</td>\n",
       "      <td>Southville is pretty darn hip, frankly. North ...</td>\n",
       "      <td>https://a0.muscache.com/pictures/e1e7fdfc-9db5...</td>\n",
       "      <td>708175</td>\n",
       "      <td>...</td>\n",
       "      <td>4.92</td>\n",
       "      <td>4.72</td>\n",
       "      <td>4.67</td>\n",
       "      <td>NaN</td>\n",
       "      <td>f</td>\n",
       "      <td>1</td>\n",
       "      <td>0</td>\n",
       "      <td>1</td>\n",
       "      <td>0</td>\n",
       "      <td>0.35</td>\n",
       "    </tr>\n",
       "    <tr>\n",
       "      <th>3</th>\n",
       "      <td>307634</td>\n",
       "      <td>https://www.airbnb.com/rooms/307634</td>\n",
       "      <td>20221228025809</td>\n",
       "      <td>2022-12-28</td>\n",
       "      <td>city scrape</td>\n",
       "      <td>'The Sunset Room' Peaceful, Clear Home</td>\n",
       "      <td>Close to Bristol and Bath Railway Path, leadin...</td>\n",
       "      <td>Located in the cosmopolitan and bohemian commu...</td>\n",
       "      <td>https://a0.muscache.com/pictures/e9a6cc15-b2ea...</td>\n",
       "      <td>1582810</td>\n",
       "      <td>...</td>\n",
       "      <td>4.75</td>\n",
       "      <td>4.79</td>\n",
       "      <td>4.61</td>\n",
       "      <td>NaN</td>\n",
       "      <td>f</td>\n",
       "      <td>3</td>\n",
       "      <td>1</td>\n",
       "      <td>2</td>\n",
       "      <td>0</td>\n",
       "      <td>0.46</td>\n",
       "    </tr>\n",
       "    <tr>\n",
       "      <th>4</th>\n",
       "      <td>341227</td>\n",
       "      <td>https://www.airbnb.com/rooms/341227</td>\n",
       "      <td>20221228025809</td>\n",
       "      <td>2022-12-28</td>\n",
       "      <td>city scrape</td>\n",
       "      <td>Listed Georgian house in the heart of Bristol.</td>\n",
       "      <td>This is a unique home in the heart of Montpeli...</td>\n",
       "      <td>Shabby and authentic and still not gentrified,...</td>\n",
       "      <td>https://a0.muscache.com/pictures/43731fbe-289d...</td>\n",
       "      <td>237360</td>\n",
       "      <td>...</td>\n",
       "      <td>4.96</td>\n",
       "      <td>4.83</td>\n",
       "      <td>4.73</td>\n",
       "      <td>NaN</td>\n",
       "      <td>f</td>\n",
       "      <td>1</td>\n",
       "      <td>1</td>\n",
       "      <td>0</td>\n",
       "      <td>0</td>\n",
       "      <td>0.84</td>\n",
       "    </tr>\n",
       "  </tbody>\n",
       "</table>\n",
       "<p>5 rows × 75 columns</p>\n",
       "</div>"
      ],
      "text/plain": [
       "       id                          listing_url       scrape_id last_scraped  \\\n",
       "0   70820   https://www.airbnb.com/rooms/70820  20221228025809   2022-12-28   \n",
       "1  117122  https://www.airbnb.com/rooms/117122  20221228025809   2022-12-28   \n",
       "2  176306  https://www.airbnb.com/rooms/176306  20221228025809   2022-12-28   \n",
       "3  307634  https://www.airbnb.com/rooms/307634  20221228025809   2022-12-28   \n",
       "4  341227  https://www.airbnb.com/rooms/341227  20221228025809   2022-12-28   \n",
       "\n",
       "            source                                               name  \\\n",
       "0  previous scrape                   City View - Sarah's double room.   \n",
       "1      city scrape                      City Centre-Waterside Retreat   \n",
       "2      city scrape  The White Room -  Central Bristol Art House Ga...   \n",
       "3      city scrape             'The Sunset Room' Peaceful, Clear Home   \n",
       "4      city scrape     Listed Georgian house in the heart of Bristol.   \n",
       "\n",
       "                                         description  \\\n",
       "0  A good sized room with a comfy double bed and ...   \n",
       "1  My Harbourside apartment centrally located min...   \n",
       "2  A small double room in an artist's house, with...   \n",
       "3  Close to Bristol and Bath Railway Path, leadin...   \n",
       "4  This is a unique home in the heart of Montpeli...   \n",
       "\n",
       "                               neighborhood_overview  \\\n",
       "0  The neighbourhood is friendly and welcoming; m...   \n",
       "1  This area is on the water and has splendid vie...   \n",
       "2  Southville is pretty darn hip, frankly. North ...   \n",
       "3  Located in the cosmopolitan and bohemian commu...   \n",
       "4  Shabby and authentic and still not gentrified,...   \n",
       "\n",
       "                                         picture_url  host_id  ...  \\\n",
       "0  https://a0.muscache.com/pictures/b33c30be-56a0...   360195  ...   \n",
       "1  https://a0.muscache.com/pictures/f6d39021-af07...   591555  ...   \n",
       "2  https://a0.muscache.com/pictures/e1e7fdfc-9db5...   708175  ...   \n",
       "3  https://a0.muscache.com/pictures/e9a6cc15-b2ea...  1582810  ...   \n",
       "4  https://a0.muscache.com/pictures/43731fbe-289d...   237360  ...   \n",
       "\n",
       "  review_scores_communication review_scores_location review_scores_value  \\\n",
       "0                        4.94                   4.75                4.77   \n",
       "1                        4.99                   4.97                4.88   \n",
       "2                        4.92                   4.72                4.67   \n",
       "3                        4.75                   4.79                4.61   \n",
       "4                        4.96                   4.83                4.73   \n",
       "\n",
       "  license instant_bookable calculated_host_listings_count  \\\n",
       "0     NaN                f                              5   \n",
       "1     NaN                f                              1   \n",
       "2     NaN                f                              1   \n",
       "3     NaN                f                              3   \n",
       "4     NaN                f                              1   \n",
       "\n",
       "  calculated_host_listings_count_entire_homes  \\\n",
       "0                                           0   \n",
       "1                                           0   \n",
       "2                                           0   \n",
       "3                                           1   \n",
       "4                                           1   \n",
       "\n",
       "  calculated_host_listings_count_private_rooms  \\\n",
       "0                                            5   \n",
       "1                                            1   \n",
       "2                                            1   \n",
       "3                                            2   \n",
       "4                                            0   \n",
       "\n",
       "  calculated_host_listings_count_shared_rooms reviews_per_month  \n",
       "0                                           0              1.60  \n",
       "1                                           0              1.23  \n",
       "2                                           0              0.35  \n",
       "3                                           0              0.46  \n",
       "4                                           0              0.84  \n",
       "\n",
       "[5 rows x 75 columns]"
      ]
     },
     "execution_count": 2,
     "metadata": {},
     "output_type": "execute_result"
    }
   ],
   "source": [
    "# Gather the data. Here we are using airbnb data for the city of Bristol, UK.\n",
    "listings_df=pd.read_csv('./listings.csv') \n",
    "\n",
    "#Assess the dataset: look at shape, column headings and missing values\n",
    "\n",
    "print(f\"The size of the listings dataframe is: {listings_df.shape}\")\n",
    "listings_df.head(5)"
   ]
  },
  {
   "cell_type": "code",
   "execution_count": 3,
   "id": "f883420b",
   "metadata": {},
   "outputs": [
    {
     "data": {
      "text/plain": [
       "['id',\n",
       " 'listing_url',\n",
       " 'scrape_id',\n",
       " 'last_scraped',\n",
       " 'source',\n",
       " 'name',\n",
       " 'description',\n",
       " 'neighborhood_overview',\n",
       " 'picture_url',\n",
       " 'host_id',\n",
       " 'host_url',\n",
       " 'host_name',\n",
       " 'host_since',\n",
       " 'host_location',\n",
       " 'host_about',\n",
       " 'host_response_time',\n",
       " 'host_response_rate',\n",
       " 'host_acceptance_rate',\n",
       " 'host_is_superhost',\n",
       " 'host_thumbnail_url',\n",
       " 'host_picture_url',\n",
       " 'host_neighbourhood',\n",
       " 'host_listings_count',\n",
       " 'host_total_listings_count',\n",
       " 'host_verifications',\n",
       " 'host_has_profile_pic',\n",
       " 'host_identity_verified',\n",
       " 'neighbourhood',\n",
       " 'neighbourhood_cleansed',\n",
       " 'neighbourhood_group_cleansed',\n",
       " 'latitude',\n",
       " 'longitude',\n",
       " 'property_type',\n",
       " 'room_type',\n",
       " 'accommodates',\n",
       " 'bathrooms',\n",
       " 'bathrooms_text',\n",
       " 'bedrooms',\n",
       " 'beds',\n",
       " 'amenities',\n",
       " 'price',\n",
       " 'minimum_nights',\n",
       " 'maximum_nights',\n",
       " 'minimum_minimum_nights',\n",
       " 'maximum_minimum_nights',\n",
       " 'minimum_maximum_nights',\n",
       " 'maximum_maximum_nights',\n",
       " 'minimum_nights_avg_ntm',\n",
       " 'maximum_nights_avg_ntm',\n",
       " 'calendar_updated',\n",
       " 'has_availability',\n",
       " 'availability_30',\n",
       " 'availability_60',\n",
       " 'availability_90',\n",
       " 'availability_365',\n",
       " 'calendar_last_scraped',\n",
       " 'number_of_reviews',\n",
       " 'number_of_reviews_ltm',\n",
       " 'number_of_reviews_l30d',\n",
       " 'first_review',\n",
       " 'last_review',\n",
       " 'review_scores_rating',\n",
       " 'review_scores_accuracy',\n",
       " 'review_scores_cleanliness',\n",
       " 'review_scores_checkin',\n",
       " 'review_scores_communication',\n",
       " 'review_scores_location',\n",
       " 'review_scores_value',\n",
       " 'license',\n",
       " 'instant_bookable',\n",
       " 'calculated_host_listings_count',\n",
       " 'calculated_host_listings_count_entire_homes',\n",
       " 'calculated_host_listings_count_private_rooms',\n",
       " 'calculated_host_listings_count_shared_rooms',\n",
       " 'reviews_per_month']"
      ]
     },
     "execution_count": 3,
     "metadata": {},
     "output_type": "execute_result"
    }
   ],
   "source": [
    "listings_df.columns.to_list()"
   ]
  },
  {
   "cell_type": "code",
   "execution_count": 4,
   "id": "5d324951",
   "metadata": {},
   "outputs": [
    {
     "name": "stdout",
     "output_type": "stream",
     "text": [
      "These columns have at least one missing value: \n",
      " ['description', 'neighborhood_overview', 'host_location', 'host_about', 'host_response_time', 'host_response_rate', 'host_acceptance_rate', 'host_neighbourhood', 'neighbourhood', 'neighbourhood_group_cleansed', 'bathrooms', 'bathrooms_text', 'bedrooms', 'beds', 'calendar_updated', 'first_review', 'last_review', 'review_scores_rating', 'review_scores_accuracy', 'review_scores_cleanliness', 'review_scores_checkin', 'review_scores_communication', 'review_scores_location', 'review_scores_value', 'license', 'reviews_per_month'] \n",
      "\n",
      "These columns have more than 25% of values missing: \n",
      " ['neighborhood_overview', 'host_about', 'host_neighbourhood', 'neighbourhood', 'neighbourhood_group_cleansed', 'bathrooms', 'calendar_updated', 'license']\n"
     ]
    }
   ],
   "source": [
    "#which columns have missing values?\n",
    "print(f\"These columns have at least one missing value: \\n {listings_df.columns[listings_df.isna().any()].tolist()} \\n\")\n",
    "\n",
    "#which columns have more than 25% missing\n",
    "print(f\"These columns have more than 25% of values missing: \\n {listings_df.columns[listings_df.isna().mean()> 0.25].tolist()}\")"
   ]
  },
  {
   "cell_type": "markdown",
   "id": "91179049",
   "metadata": {},
   "source": [
    "Let's start our analysis. We would like to look how rentals are distributed across the neighbourhoods in Bristol. The field 'neighbourhood cleansed' has no missing values, so let's use it to look at where the rentals are."
   ]
  },
  {
   "cell_type": "code",
   "execution_count": 5,
   "id": "a9fa08bd",
   "metadata": {},
   "outputs": [
    {
     "data": {
      "text/plain": [
       "Text(0.5, 0, 'Number of rentals')"
      ]
     },
     "execution_count": 5,
     "metadata": {},
     "output_type": "execute_result"
    },
    {
     "data": {
      "image/png": "[encoded data removed]",
      "text/plain": [
       "<Figure size 640x480 with 1 Axes>"
      ]
     },
     "metadata": {},
     "output_type": "display_data"
    }
   ],
   "source": [
    "#Restrict analysis to a subset of the neighbourhoods with the most rentals because otherwise things will get \n",
    "#too cluttered.\n",
    "\n",
    "num_neighbourhoods=10 #define how many neighbourhoods to use.\n",
    "\n",
    "#Now count how many rentals are in each neighbourhood \n",
    "neighs=listings_df['neighbourhood_cleansed'].value_counts().index[0:num_neighbourhoods]\n",
    "totals=listings_df['neighbourhood_cleansed'].value_counts().values[0:num_neighbourhoods]\n",
    "\n",
    "# Visualise the data (further modelling not required here)\n",
    "plt.barh(np.flipud(neighs), np.flipud(totals), alpha=0.6); #flip the data to plot descending values\n",
    "plt.title('Number of rentals in each neighbourhood');\n",
    "plt.xlabel('Number of rentals')"
   ]
  },
  {
   "cell_type": "markdown",
   "id": "edd72581",
   "metadata": {},
   "source": [
    "The areas of Ashley and Central seem to have the most rentals. However, this doesnt take account of the fact \n",
    "that some hosts have multiple listings. Let's try counting them up using the 'calculated_host_listings_count' columns - which reflects the number of listings the user has. This column has no missing values, so we can proceed.\n",
    "\n",
    "We make the assumption that each host's listings are all in the same neighbourhood reported by the 'neighbourhood cleansed' column"
   ]
  },
  {
   "cell_type": "code",
   "execution_count": 6,
   "id": "0f67e84b",
   "metadata": {},
   "outputs": [
    {
     "name": "stdout",
     "output_type": "stream",
     "text": [
      "The number of hosts with multiple listings is 1167 out of 2260\n"
     ]
    }
   ],
   "source": [
    "num_multi_listings=np.sum((listings_df.calculated_host_listings_count)>1)\n",
    "\n",
    "print(f\"The number of hosts with multiple listings is {num_multi_listings} out of {listings_df.shape[0]}\")\n"
   ]
  },
  {
   "cell_type": "markdown",
   "id": "c4c0339d",
   "metadata": {},
   "source": [
    "Roughly half the hosts have multiple listings. Let's try to count again:"
   ]
  },
  {
   "cell_type": "code",
   "execution_count": 7,
   "id": "277d36dc",
   "metadata": {},
   "outputs": [
    {
     "data": {
      "text/plain": [
       "Text(0.5, 1.0, 'Number of rentals by neighbourhood (adjusted)')"
      ]
     },
     "execution_count": 7,
     "metadata": {},
     "output_type": "execute_result"
    },
    {
     "data": {
      "image/png": "[encoded data removed]",
      "text/plain": [
       "<Figure size 640x480 with 1 Axes>"
      ]
     },
     "metadata": {},
     "output_type": "display_data"
    }
   ],
   "source": [
    "#Count by creating a repeated list:\n",
    "true_neighbourhood_list=np.repeat(listings_df['neighbourhood_cleansed'], listings_df['calculated_host_listings_count'])\n",
    "neighs, counts=np.unique(true_neighbourhood_list, return_counts=True)\n",
    "\n",
    "#Put the counts and labels into a new dataframe\n",
    "df=pd.DataFrame()\n",
    "df['neigh']=neighs\n",
    "df['count']=counts\n",
    "\n",
    "#Create a list of neighbourhoods sorted by descending value of review score - this is for plotting\n",
    "neighbourhood_sorted=df.sort_values(by='count', ascending=False)\n",
    "\n",
    "#Now plot\n",
    "plt.barh(np.flipud(neighbourhood_sorted['neigh'][0:num_neighbourhoods]), np.flipud(neighbourhood_sorted['count'][0:num_neighbourhoods]), alpha=0.6);\n",
    "plt.xlabel('Number of rentals')\n",
    "plt.title('Number of rentals by neighbourhood (adjusted)')"
   ]
  },
  {
   "cell_type": "markdown",
   "id": "ac512fd7",
   "metadata": {},
   "source": [
    "We can see that in fact the 'Central' region has by far the most individual rentals, followed by Clifton Down."
   ]
  },
  {
   "cell_type": "markdown",
   "id": "32fd840c",
   "metadata": {},
   "source": [
    "Do visitors prefer staying in one region over another? Let's look to see whether there is actually any difference between the location ratings for the top areas. Start by cleaning the relevant data."
   ]
  },
  {
   "cell_type": "code",
   "execution_count": 8,
   "id": "5ecdf1cb",
   "metadata": {},
   "outputs": [
    {
     "data": {
      "text/plain": [
       "0.12964601769911505"
      ]
     },
     "execution_count": 8,
     "metadata": {},
     "output_type": "execute_result"
    }
   ],
   "source": [
    "#First let's check whether there are missing values in the location ratings column \n",
    "\n",
    "listings_df['review_scores_location'].isnull().sum()/listings_df.shape[0]\n"
   ]
  },
  {
   "cell_type": "markdown",
   "id": "454775d0",
   "metadata": {},
   "source": [
    "Around 12% of values are missing. That's not too bad, there are still around 2000 ratings to use. Let's discard the rows with a 'nan' for location rating, and then look at the differences between ratings in each area."
   ]
  },
  {
   "cell_type": "code",
   "execution_count": 9,
   "id": "993f576f",
   "metadata": {
    "scrolled": true
   },
   "outputs": [
    {
     "name": "stdout",
     "output_type": "stream",
     "text": [
      "Mean neighbourhood review scores: neighbourhood_cleansed\n",
      "Clifton Down              4.899191\n",
      "Clifton                   4.894789\n",
      "Cotham                    4.866800\n",
      "Redland                   4.852222\n",
      "Southville                4.845833\n",
      "Hotwells & Harbourside    4.843182\n",
      "Central                   4.834161\n",
      "Ashley                    4.760315\n",
      "Easton                    4.602614\n",
      "Lawrence Hill             4.481414\n",
      "Name: review_scores_location, dtype: float64 \n",
      " \n"
     ]
    }
   ],
   "source": [
    "#Create a new dataframe, dropping the rows with null entries for the location review, and only including\n",
    "#our top subset of neighbourhoods and the two columns of interest (review scores and neighbourhoods)\n",
    "\n",
    "location_df=listings_df.dropna(subset=['review_scores_location'])\n",
    "location_df=location_df[['review_scores_location', 'neighbourhood_cleansed']]\n",
    "\n",
    "top_neighbourhoods=np.flipud(neighbourhood_sorted['neigh'][0:num_neighbourhoods]).tolist()\n",
    "location_df=location_df[location_df['neighbourhood_cleansed'].isin(top_neighbourhoods)]\n",
    "\n",
    "mean_scores=location_df.groupby('neighbourhood_cleansed').mean().review_scores_location.sort_values(ascending=False)\n",
    "print(f\"Mean neighbourhood review scores: {mean_scores} \\n \")    ;\n"
   ]
  },
  {
   "cell_type": "markdown",
   "id": "f231bad0",
   "metadata": {},
   "source": [
    "Let's pull out the review scores of interest and plot some statistical measures. We will test for normality\n",
    "to see if we can use a one-way ANOVA to check for meaningful differences between the sets."
   ]
  },
  {
   "cell_type": "code",
   "execution_count": 12,
   "id": "262e318a",
   "metadata": {},
   "outputs": [
    {
     "data": {
      "image/png": "[encoded data removed]",
      "text/plain": [
       "<Figure size 640x480 with 1 Axes>"
      ]
     },
     "metadata": {},
     "output_type": "display_data"
    }
   ],
   "source": [
    "normal_p_scores={}\n",
    "location_scores={}\n",
    "\n",
    "for location in top_neighbourhoods:\n",
    "    location_scores[location]=location_df['review_scores_location'][location_df['neighbourhood_cleansed']==location]\n",
    "    normal_p_scores[location]=normaltest(location_scores[location])[1]\n",
    "\n",
    "# Plot mean and inter-quartile range using a boxplot\n",
    "all_scores=[location_scores[top_neighbourhoods[n]] for n in np.arange(num_neighbourhoods)]\n",
    "plt.boxplot(all_scores)\n",
    "plt.ylim([2,5.1])\n",
    "\n",
    "# Long name labels don't plot well, so let's just abbreviate the ones with an '&' in them\n",
    "shorten_name=lambda n: n.split('&')[0]\n",
    "top_10_short=[shorten_name(name) for name in top_neighbourhoods]\n",
    "\n",
    "plt.xticks(list(np.arange(0,num_neighbourhoods,1)),top_10_short);\n",
    "plt.xticks(rotation=60)\n",
    "plt.ylabel('Location Review Scores');\n",
    "plt.title('Review Scores By Neighbourhood');"
   ]
  },
  {
   "cell_type": "markdown",
   "id": "29a3b0f7",
   "metadata": {},
   "source": [
    "Yuck - it's very difficult to see what's going on here. Let's plot again, but using a simple bar chart and defining a new measure with reference to the mean score for all rentals in all locations. That way we can see which ones are below/above average"
   ]
  },
  {
   "cell_type": "code",
   "execution_count": 13,
   "id": "dc95fd58",
   "metadata": {},
   "outputs": [
    {
     "data": {
      "image/png": "[encoded data removed]",
      "text/plain": [
       "<Figure size 640x480 with 1 Axes>"
      ]
     },
     "metadata": {},
     "output_type": "display_data"
    }
   ],
   "source": [
    "#Start again - create new df with review scores relative to the mean \n",
    "loc_df_zeroed=location_df.copy()\n",
    "loc_df_zeroed['review_scores_location']=loc_df_zeroed['review_scores_location']-loc_df_zeroed['review_scores_location'].mean()\n",
    "av_scores=loc_df_zeroed.groupby('neighbourhood_cleansed').mean().sort_values(by='review_scores_location')\n",
    "\n",
    "plt.barh(av_scores.index,av_scores['review_scores_location'], alpha=0.6);\n",
    "plt.title('Relative review scores: neighbourhoods');\n",
    "plt.xlabel('Relative review score');"
   ]
  },
  {
   "cell_type": "markdown",
   "id": "cb2e366c",
   "metadata": {},
   "source": [
    "These all look pretty similar - but it seems that Easton and Lawrence Hill  are significantly lower than the rest. Is there any statistical difference between the groups?"
   ]
  },
  {
   "cell_type": "code",
   "execution_count": 14,
   "id": "050e16e7",
   "metadata": {},
   "outputs": [
    {
     "name": "stdout",
     "output_type": "stream",
     "text": [
      "Scores are all normally distributed\n"
     ]
    }
   ],
   "source": [
    "#Check that the sets of review scores are normally distributed\n",
    "if np.sum([p_vals<0.05 for p_vals in normal_p_scores.values()])==num_neighbourhoods:\n",
    "    print('Scores are all normally distributed')\n",
    "\n",
    "# perform multiple pairwise comparison (Tukey HSD)\n",
    "m_comp = pairwise_tukeyhsd(endog=location_df['review_scores_location'], groups=location_df['neighbourhood_cleansed'], alpha=0.05)\n",
    "comparisons=m_comp.summary()"
   ]
  },
  {
   "cell_type": "code",
   "execution_count": 15,
   "id": "05b18d11",
   "metadata": {},
   "outputs": [
    {
     "data": {
      "text/html": [
       "<div>\n",
       "<style scoped>\n",
       "    .dataframe tbody tr th:only-of-type {\n",
       "        vertical-align: middle;\n",
       "    }\n",
       "\n",
       "    .dataframe tbody tr th {\n",
       "        vertical-align: top;\n",
       "    }\n",
       "\n",
       "    .dataframe thead th {\n",
       "        text-align: right;\n",
       "    }\n",
       "</style>\n",
       "<table border=\"1\" class=\"dataframe\">\n",
       "  <thead>\n",
       "    <tr style=\"text-align: right;\">\n",
       "      <th></th>\n",
       "      <th>0</th>\n",
       "      <th>1</th>\n",
       "      <th>2</th>\n",
       "      <th>3</th>\n",
       "      <th>4</th>\n",
       "      <th>5</th>\n",
       "      <th>6</th>\n",
       "    </tr>\n",
       "  </thead>\n",
       "  <tbody>\n",
       "    <tr>\n",
       "      <th>2</th>\n",
       "      <td>Ashley</td>\n",
       "      <td>Clifton</td>\n",
       "      <td>0.1345</td>\n",
       "      <td>0.0012</td>\n",
       "      <td>0.0331</td>\n",
       "      <td>0.2359</td>\n",
       "      <td>True</td>\n",
       "    </tr>\n",
       "    <tr>\n",
       "      <th>3</th>\n",
       "      <td>Ashley</td>\n",
       "      <td>Clifton Down</td>\n",
       "      <td>0.1389</td>\n",
       "      <td>0.0008</td>\n",
       "      <td>0.036</td>\n",
       "      <td>0.2417</td>\n",
       "      <td>True</td>\n",
       "    </tr>\n",
       "    <tr>\n",
       "      <th>5</th>\n",
       "      <td>Ashley</td>\n",
       "      <td>Easton</td>\n",
       "      <td>-0.1577</td>\n",
       "      <td>0.0013</td>\n",
       "      <td>-0.2774</td>\n",
       "      <td>-0.038</td>\n",
       "      <td>True</td>\n",
       "    </tr>\n",
       "    <tr>\n",
       "      <th>7</th>\n",
       "      <td>Ashley</td>\n",
       "      <td>Lawrence Hill</td>\n",
       "      <td>-0.2789</td>\n",
       "      <td>0.0</td>\n",
       "      <td>-0.3936</td>\n",
       "      <td>-0.1642</td>\n",
       "      <td>True</td>\n",
       "    </tr>\n",
       "    <tr>\n",
       "      <th>13</th>\n",
       "      <td>Central</td>\n",
       "      <td>Easton</td>\n",
       "      <td>-0.2315</td>\n",
       "      <td>0.0</td>\n",
       "      <td>-0.3599</td>\n",
       "      <td>-0.1032</td>\n",
       "      <td>True</td>\n",
       "    </tr>\n",
       "    <tr>\n",
       "      <th>15</th>\n",
       "      <td>Central</td>\n",
       "      <td>Lawrence Hill</td>\n",
       "      <td>-0.3527</td>\n",
       "      <td>0.0</td>\n",
       "      <td>-0.4764</td>\n",
       "      <td>-0.2291</td>\n",
       "      <td>True</td>\n",
       "    </tr>\n",
       "    <tr>\n",
       "      <th>20</th>\n",
       "      <td>Clifton</td>\n",
       "      <td>Easton</td>\n",
       "      <td>-0.2922</td>\n",
       "      <td>0.0</td>\n",
       "      <td>-0.4235</td>\n",
       "      <td>-0.1609</td>\n",
       "      <td>True</td>\n",
       "    </tr>\n",
       "    <tr>\n",
       "      <th>22</th>\n",
       "      <td>Clifton</td>\n",
       "      <td>Lawrence Hill</td>\n",
       "      <td>-0.4134</td>\n",
       "      <td>0.0</td>\n",
       "      <td>-0.5401</td>\n",
       "      <td>-0.2866</td>\n",
       "      <td>True</td>\n",
       "    </tr>\n",
       "    <tr>\n",
       "      <th>26</th>\n",
       "      <td>Clifton Down</td>\n",
       "      <td>Easton</td>\n",
       "      <td>-0.2966</td>\n",
       "      <td>0.0</td>\n",
       "      <td>-0.429</td>\n",
       "      <td>-0.1642</td>\n",
       "      <td>True</td>\n",
       "    </tr>\n",
       "    <tr>\n",
       "      <th>28</th>\n",
       "      <td>Clifton Down</td>\n",
       "      <td>Lawrence Hill</td>\n",
       "      <td>-0.4178</td>\n",
       "      <td>0.0</td>\n",
       "      <td>-0.5457</td>\n",
       "      <td>-0.2899</td>\n",
       "      <td>True</td>\n",
       "    </tr>\n",
       "    <tr>\n",
       "      <th>31</th>\n",
       "      <td>Cotham</td>\n",
       "      <td>Easton</td>\n",
       "      <td>-0.2642</td>\n",
       "      <td>0.0</td>\n",
       "      <td>-0.4057</td>\n",
       "      <td>-0.1227</td>\n",
       "      <td>True</td>\n",
       "    </tr>\n",
       "    <tr>\n",
       "      <th>33</th>\n",
       "      <td>Cotham</td>\n",
       "      <td>Lawrence Hill</td>\n",
       "      <td>-0.3854</td>\n",
       "      <td>0.0</td>\n",
       "      <td>-0.5226</td>\n",
       "      <td>-0.2482</td>\n",
       "      <td>True</td>\n",
       "    </tr>\n",
       "    <tr>\n",
       "      <th>36</th>\n",
       "      <td>Easton</td>\n",
       "      <td>Hotwells &amp; Harbourside</td>\n",
       "      <td>0.2406</td>\n",
       "      <td>0.0001</td>\n",
       "      <td>0.083</td>\n",
       "      <td>0.3982</td>\n",
       "      <td>True</td>\n",
       "    </tr>\n",
       "    <tr>\n",
       "      <th>38</th>\n",
       "      <td>Easton</td>\n",
       "      <td>Redland</td>\n",
       "      <td>0.2496</td>\n",
       "      <td>0.0</td>\n",
       "      <td>0.0958</td>\n",
       "      <td>0.4034</td>\n",
       "      <td>True</td>\n",
       "    </tr>\n",
       "    <tr>\n",
       "      <th>39</th>\n",
       "      <td>Easton</td>\n",
       "      <td>Southville</td>\n",
       "      <td>0.2432</td>\n",
       "      <td>0.0</td>\n",
       "      <td>0.1004</td>\n",
       "      <td>0.3861</td>\n",
       "      <td>True</td>\n",
       "    </tr>\n",
       "    <tr>\n",
       "      <th>40</th>\n",
       "      <td>Hotwells &amp; Harbourside</td>\n",
       "      <td>Lawrence Hill</td>\n",
       "      <td>-0.3618</td>\n",
       "      <td>0.0</td>\n",
       "      <td>-0.5156</td>\n",
       "      <td>-0.208</td>\n",
       "      <td>True</td>\n",
       "    </tr>\n",
       "    <tr>\n",
       "      <th>43</th>\n",
       "      <td>Lawrence Hill</td>\n",
       "      <td>Redland</td>\n",
       "      <td>0.3708</td>\n",
       "      <td>0.0</td>\n",
       "      <td>0.2209</td>\n",
       "      <td>0.5207</td>\n",
       "      <td>True</td>\n",
       "    </tr>\n",
       "    <tr>\n",
       "      <th>44</th>\n",
       "      <td>Lawrence Hill</td>\n",
       "      <td>Southville</td>\n",
       "      <td>0.3644</td>\n",
       "      <td>0.0</td>\n",
       "      <td>0.2258</td>\n",
       "      <td>0.5031</td>\n",
       "      <td>True</td>\n",
       "    </tr>\n",
       "  </tbody>\n",
       "</table>\n",
       "</div>"
      ],
      "text/plain": [
       "                         0                       1       2       3       4  \\\n",
       "2                   Ashley                 Clifton  0.1345  0.0012  0.0331   \n",
       "3                   Ashley            Clifton Down  0.1389  0.0008   0.036   \n",
       "5                   Ashley                  Easton -0.1577  0.0013 -0.2774   \n",
       "7                   Ashley           Lawrence Hill -0.2789     0.0 -0.3936   \n",
       "13                 Central                  Easton -0.2315     0.0 -0.3599   \n",
       "15                 Central           Lawrence Hill -0.3527     0.0 -0.4764   \n",
       "20                 Clifton                  Easton -0.2922     0.0 -0.4235   \n",
       "22                 Clifton           Lawrence Hill -0.4134     0.0 -0.5401   \n",
       "26            Clifton Down                  Easton -0.2966     0.0  -0.429   \n",
       "28            Clifton Down           Lawrence Hill -0.4178     0.0 -0.5457   \n",
       "31                  Cotham                  Easton -0.2642     0.0 -0.4057   \n",
       "33                  Cotham           Lawrence Hill -0.3854     0.0 -0.5226   \n",
       "36                  Easton  Hotwells & Harbourside  0.2406  0.0001   0.083   \n",
       "38                  Easton                 Redland  0.2496     0.0  0.0958   \n",
       "39                  Easton              Southville  0.2432     0.0  0.1004   \n",
       "40  Hotwells & Harbourside           Lawrence Hill -0.3618     0.0 -0.5156   \n",
       "43           Lawrence Hill                 Redland  0.3708     0.0  0.2209   \n",
       "44           Lawrence Hill              Southville  0.3644     0.0  0.2258   \n",
       "\n",
       "         5     6  \n",
       "2   0.2359  True  \n",
       "3   0.2417  True  \n",
       "5   -0.038  True  \n",
       "7  -0.1642  True  \n",
       "13 -0.1032  True  \n",
       "15 -0.2291  True  \n",
       "20 -0.1609  True  \n",
       "22 -0.2866  True  \n",
       "26 -0.1642  True  \n",
       "28 -0.2899  True  \n",
       "31 -0.1227  True  \n",
       "33 -0.2482  True  \n",
       "36  0.3982  True  \n",
       "38  0.4034  True  \n",
       "39  0.3861  True  \n",
       "40  -0.208  True  \n",
       "43  0.5207  True  \n",
       "44  0.5031  True  "
      ]
     },
     "execution_count": 15,
     "metadata": {},
     "output_type": "execute_result"
    }
   ],
   "source": [
    "#Look at the results from the pairwise comparison\n",
    "stats_df = pd.DataFrame.from_records(comparisons.data)\n",
    "\n",
    "#Pull out the pairs in which the two datasets are statistically different\n",
    "stats_df[stats_df[6]==True]"
   ]
  },
  {
   "cell_type": "markdown",
   "id": "4f14171f",
   "metadata": {},
   "source": [
    "Now let's have a look at the price of rentals in different areas using the 'price' field"
   ]
  },
  {
   "cell_type": "code",
   "execution_count": 24,
   "id": "76c3a22c",
   "metadata": {},
   "outputs": [
    {
     "data": {
      "text/plain": [
       "0"
      ]
     },
     "execution_count": 24,
     "metadata": {},
     "output_type": "execute_result"
    }
   ],
   "source": [
    "#Are there any missing values in this field?\n",
    "listings_df.price.isna().sum()\n"
   ]
  },
  {
   "cell_type": "markdown",
   "id": "37d7b806",
   "metadata": {},
   "source": [
    "There are no missing values, but price is in string format. Let's pull out price information and convert it to a float."
   ]
  },
  {
   "cell_type": "code",
   "execution_count": 25,
   "id": "2d6709ca",
   "metadata": {},
   "outputs": [
    {
     "data": {
      "text/plain": [
       "0    41.0\n",
       "1    96.0\n",
       "2    32.0\n",
       "3    38.0\n",
       "Name: price_num, dtype: float64"
      ]
     },
     "execution_count": 25,
     "metadata": {},
     "output_type": "execute_result"
    }
   ],
   "source": [
    "# Remove the string parts of the price field and convert to floats:\n",
    "price_num=listings_df['price'].apply(lambda x: x.replace('$', '')).apply(lambda x: x.replace(',', ''))\n",
    "listings_df['price_num']=price_num.astype(float)\n",
    "listings_df['price_num'][0:4]"
   ]
  },
  {
   "cell_type": "code",
   "execution_count": 26,
   "id": "9ce6f9d2",
   "metadata": {},
   "outputs": [
    {
     "data": {
      "image/png": "[encoded data removed]",
      "text/plain": [
       "<Figure size 640x480 with 1 Axes>"
      ]
     },
     "metadata": {},
     "output_type": "display_data"
    }
   ],
   "source": [
    "price_by_area=listings_df.groupby('neighbourhood_cleansed').mean().price_num\n",
    "price_by_area=price_by_area.loc[top_neighbourhoods]\n",
    "#now plot a bar chart showing type of listings in each neighbourhood\n",
    "\n",
    "r = np.arange(num_neighbourhoods)\n",
    "width = 0.25\n",
    "  \n",
    "plt.barh(price_by_area.index, price_by_area ,color = 'r', edgecolor = 'none', alpha=0.6)\n",
    "        \n",
    "\n",
    "plt.ylabel(\"Neighbourhood\");\n",
    "plt.xlabel('Price ($)')\n",
    "plt.title('Rental price by neighbourhood');"
   ]
  },
  {
   "cell_type": "markdown",
   "id": "c20cd46a",
   "metadata": {},
   "source": [
    "The Central area is suspiciously more expensive than other top areas. What's going on? Is the type of rental typically different in this area? Or is the price distorted by a few outliers?"
   ]
  },
  {
   "cell_type": "code",
   "execution_count": 27,
   "id": "a0b17fa5",
   "metadata": {},
   "outputs": [],
   "source": [
    "#Look at rental types by area\n",
    "types_by_area=listings_df.groupby('neighbourhood_cleansed').sum()[['calculated_host_listings_count_entire_homes', 'calculated_host_listings_count_private_rooms','calculated_host_listings_count_shared_rooms']]\n",
    "types_by_area=types_by_area.loc[top_neighbourhoods]"
   ]
  },
  {
   "cell_type": "code",
   "execution_count": 28,
   "id": "fa5f35aa",
   "metadata": {},
   "outputs": [
    {
     "data": {
      "text/plain": [
       "calculated_host_listings_count_entire_homes     10\n",
       "calculated_host_listings_count_private_rooms    10\n",
       "calculated_host_listings_count_shared_rooms      0\n",
       "dtype: int64"
      ]
     },
     "execution_count": 28,
     "metadata": {},
     "output_type": "execute_result"
    }
   ],
   "source": [
    "#The shared room field is full of zeros:\n",
    "np.sum(types_by_area>0)\n",
    "\n",
    "#Just plot the other two fields"
   ]
  },
  {
   "cell_type": "code",
   "execution_count": 29,
   "id": "7ce4dcce",
   "metadata": {},
   "outputs": [
    {
     "data": {
      "image/png": "[encoded data removed]",
      "text/plain": [
       "<Figure size 640x480 with 1 Axes>"
      ]
     },
     "metadata": {},
     "output_type": "display_data"
    }
   ],
   "source": [
    "#now plot a bar chart showing type of listings in each neighbourhood\n",
    "r = np.arange(num_neighbourhoods)\n",
    "width = 0.3\n",
    "  \n",
    "plt.bar(r, types_by_area['calculated_host_listings_count_entire_homes'], color = 'b',\n",
    "        width = width, alpha=0.6)\n",
    "        \n",
    "plt.bar(r + width, types_by_area['calculated_host_listings_count_private_rooms'], color = 'g',\n",
    "      width = width, alpha=0.6)\n",
    "          \n",
    "plt.xlabel(\"Neighbourhood\");\n",
    "plt.xticks(list(np.arange(0,num_neighbourhoods,1)),top_10_short);\n",
    "plt.xticks(rotation=80);\n",
    "plt.legend(['Entire homes', 'Private Rooms', 'Shared Rooms']);\n",
    "plt.title('Types of rental, by neighbourhood');"
   ]
  },
  {
   "cell_type": "code",
   "execution_count": 30,
   "id": "87efbf22",
   "metadata": {},
   "outputs": [
    {
     "data": {
      "text/html": [
       "<div>\n",
       "<style scoped>\n",
       "    .dataframe tbody tr th:only-of-type {\n",
       "        vertical-align: middle;\n",
       "    }\n",
       "\n",
       "    .dataframe tbody tr th {\n",
       "        vertical-align: top;\n",
       "    }\n",
       "\n",
       "    .dataframe thead th {\n",
       "        text-align: right;\n",
       "    }\n",
       "</style>\n",
       "<table border=\"1\" class=\"dataframe\">\n",
       "  <thead>\n",
       "    <tr style=\"text-align: right;\">\n",
       "      <th></th>\n",
       "      <th>count</th>\n",
       "      <th>mean</th>\n",
       "      <th>std</th>\n",
       "      <th>min</th>\n",
       "      <th>25%</th>\n",
       "      <th>50%</th>\n",
       "      <th>75%</th>\n",
       "      <th>max</th>\n",
       "    </tr>\n",
       "    <tr>\n",
       "      <th>neighbourhood_cleansed</th>\n",
       "      <th></th>\n",
       "      <th></th>\n",
       "      <th></th>\n",
       "      <th></th>\n",
       "      <th></th>\n",
       "      <th></th>\n",
       "      <th></th>\n",
       "      <th></th>\n",
       "    </tr>\n",
       "  </thead>\n",
       "  <tbody>\n",
       "    <tr>\n",
       "      <th>Redland</th>\n",
       "      <td>81.0</td>\n",
       "      <td>128.358025</td>\n",
       "      <td>93.156898</td>\n",
       "      <td>31.0</td>\n",
       "      <td>70.00</td>\n",
       "      <td>100.0</td>\n",
       "      <td>148.00</td>\n",
       "      <td>521.0</td>\n",
       "    </tr>\n",
       "    <tr>\n",
       "      <th>Southville</th>\n",
       "      <td>107.0</td>\n",
       "      <td>114.542056</td>\n",
       "      <td>119.945765</td>\n",
       "      <td>30.0</td>\n",
       "      <td>64.00</td>\n",
       "      <td>85.0</td>\n",
       "      <td>130.50</td>\n",
       "      <td>1171.0</td>\n",
       "    </tr>\n",
       "    <tr>\n",
       "      <th>Hotwells &amp; Harbourside</th>\n",
       "      <td>70.0</td>\n",
       "      <td>171.842857</td>\n",
       "      <td>178.122872</td>\n",
       "      <td>48.0</td>\n",
       "      <td>94.00</td>\n",
       "      <td>115.5</td>\n",
       "      <td>156.50</td>\n",
       "      <td>1050.0</td>\n",
       "    </tr>\n",
       "    <tr>\n",
       "      <th>Easton</th>\n",
       "      <td>98.0</td>\n",
       "      <td>91.326531</td>\n",
       "      <td>70.675354</td>\n",
       "      <td>20.0</td>\n",
       "      <td>45.00</td>\n",
       "      <td>81.0</td>\n",
       "      <td>100.00</td>\n",
       "      <td>380.0</td>\n",
       "    </tr>\n",
       "    <tr>\n",
       "      <th>Cotham</th>\n",
       "      <td>108.0</td>\n",
       "      <td>150.101852</td>\n",
       "      <td>165.492521</td>\n",
       "      <td>28.0</td>\n",
       "      <td>73.75</td>\n",
       "      <td>100.0</td>\n",
       "      <td>162.50</td>\n",
       "      <td>1274.0</td>\n",
       "    </tr>\n",
       "    <tr>\n",
       "      <th>Lawrence Hill</th>\n",
       "      <td>110.0</td>\n",
       "      <td>101.900000</td>\n",
       "      <td>88.238412</td>\n",
       "      <td>25.0</td>\n",
       "      <td>47.00</td>\n",
       "      <td>82.5</td>\n",
       "      <td>120.00</td>\n",
       "      <td>493.0</td>\n",
       "    </tr>\n",
       "    <tr>\n",
       "      <th>Clifton</th>\n",
       "      <td>154.0</td>\n",
       "      <td>137.129870</td>\n",
       "      <td>88.988852</td>\n",
       "      <td>29.0</td>\n",
       "      <td>84.25</td>\n",
       "      <td>119.0</td>\n",
       "      <td>169.75</td>\n",
       "      <td>638.0</td>\n",
       "    </tr>\n",
       "    <tr>\n",
       "      <th>Ashley</th>\n",
       "      <td>274.0</td>\n",
       "      <td>120.178832</td>\n",
       "      <td>148.964143</td>\n",
       "      <td>25.0</td>\n",
       "      <td>60.25</td>\n",
       "      <td>91.0</td>\n",
       "      <td>128.50</td>\n",
       "      <td>1961.0</td>\n",
       "    </tr>\n",
       "    <tr>\n",
       "      <th>Clifton Down</th>\n",
       "      <td>151.0</td>\n",
       "      <td>117.682119</td>\n",
       "      <td>85.576739</td>\n",
       "      <td>33.0</td>\n",
       "      <td>73.00</td>\n",
       "      <td>99.0</td>\n",
       "      <td>133.50</td>\n",
       "      <td>721.0</td>\n",
       "    </tr>\n",
       "    <tr>\n",
       "      <th>Central</th>\n",
       "      <td>239.0</td>\n",
       "      <td>497.527197</td>\n",
       "      <td>633.642967</td>\n",
       "      <td>30.0</td>\n",
       "      <td>84.50</td>\n",
       "      <td>130.0</td>\n",
       "      <td>1410.00</td>\n",
       "      <td>1570.0</td>\n",
       "    </tr>\n",
       "  </tbody>\n",
       "</table>\n",
       "</div>"
      ],
      "text/plain": [
       "                        count        mean         std   min    25%    50%  \\\n",
       "neighbourhood_cleansed                                                      \n",
       "Redland                  81.0  128.358025   93.156898  31.0  70.00  100.0   \n",
       "Southville              107.0  114.542056  119.945765  30.0  64.00   85.0   \n",
       "Hotwells & Harbourside   70.0  171.842857  178.122872  48.0  94.00  115.5   \n",
       "Easton                   98.0   91.326531   70.675354  20.0  45.00   81.0   \n",
       "Cotham                  108.0  150.101852  165.492521  28.0  73.75  100.0   \n",
       "Lawrence Hill           110.0  101.900000   88.238412  25.0  47.00   82.5   \n",
       "Clifton                 154.0  137.129870   88.988852  29.0  84.25  119.0   \n",
       "Ashley                  274.0  120.178832  148.964143  25.0  60.25   91.0   \n",
       "Clifton Down            151.0  117.682119   85.576739  33.0  73.00   99.0   \n",
       "Central                 239.0  497.527197  633.642967  30.0  84.50  130.0   \n",
       "\n",
       "                            75%     max  \n",
       "neighbourhood_cleansed                   \n",
       "Redland                  148.00   521.0  \n",
       "Southville               130.50  1171.0  \n",
       "Hotwells & Harbourside   156.50  1050.0  \n",
       "Easton                   100.00   380.0  \n",
       "Cotham                   162.50  1274.0  \n",
       "Lawrence Hill            120.00   493.0  \n",
       "Clifton                  169.75   638.0  \n",
       "Ashley                   128.50  1961.0  \n",
       "Clifton Down             133.50   721.0  \n",
       "Central                 1410.00  1570.0  "
      ]
     },
     "execution_count": 30,
     "metadata": {},
     "output_type": "execute_result"
    }
   ],
   "source": [
    "#Look at the distribution of prices in each of our top neighbourhoods\n",
    "price_all=listings_df.groupby('neighbourhood_cleansed').price_num\n",
    "price_all.describe().loc[top_neighbourhoods]"
   ]
  },
  {
   "cell_type": "code",
   "execution_count": 31,
   "id": "c30bd9cb",
   "metadata": {},
   "outputs": [
    {
     "data": {
      "text/plain": [
       "neighbourhood_cleansed\n",
       "Redland                   100.0\n",
       "Southville                 85.0\n",
       "Hotwells & Harbourside    115.5\n",
       "Easton                     81.0\n",
       "Cotham                    100.0\n",
       "Lawrence Hill              82.5\n",
       "Clifton                   119.0\n",
       "Ashley                     91.0\n",
       "Clifton Down               99.0\n",
       "Central                   130.0\n",
       "Name: price_num, dtype: float64"
      ]
     },
     "execution_count": 31,
     "metadata": {},
     "output_type": "execute_result"
    }
   ],
   "source": [
    "price_all.median().loc[top_neighbourhoods]"
   ]
  },
  {
   "cell_type": "code",
   "execution_count": 32,
   "id": "38fe73c6",
   "metadata": {},
   "outputs": [
    {
     "data": {
      "text/plain": [
       "Central                     61\n",
       "Hotwells & Harbourside       2\n",
       "Stoke Bishop                 2\n",
       "Ashley                       1\n",
       "Bishopston & Ashley Down     1\n",
       "Windmill Hill                1\n",
       "Southville                   1\n",
       "Cotham                       1\n",
       "Horfield                     1\n",
       "Name: neighbourhood_cleansed, dtype: int64"
      ]
     },
     "execution_count": 32,
     "metadata": {},
     "output_type": "execute_result"
    }
   ],
   "source": [
    "listings_df[listings_df.price_num>1000].neighbourhood_cleansed.value_counts().sort_values(ascending=False)\n"
   ]
  },
  {
   "cell_type": "markdown",
   "id": "2d2e01d0",
   "metadata": {},
   "source": [
    "The median price for Central is actually very similar to the other region. Prices in Central are distorted by a large number of very expensive properties over $1000 per night. Central also has more entire homes listed than any of our other regions."
   ]
  },
  {
   "cell_type": "code",
   "execution_count": null,
   "id": "bb1cd3e3",
   "metadata": {},
   "outputs": [],
   "source": []
  }
 ],
 "metadata": {
  "kernelspec": {
   "display_name": "Python 3 (ipykernel)",
   "language": "python",
   "name": "python3"
  },
  "language_info": {
   "codemirror_mode": {
    "name": "ipython",
    "version": 3
   },
   "file_extension": ".py",
   "mimetype": "text/x-python",
   "name": "python",
   "nbconvert_exporter": "python",
   "pygments_lexer": "ipython3",
   "version": "3.9.13"
  }
 },
 "nbformat": 4,
 "nbformat_minor": 5
}
